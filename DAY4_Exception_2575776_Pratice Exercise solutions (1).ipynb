{
 "cells": [
  {
   "cell_type": "markdown",
   "id": "dcad163d",
   "metadata": {},
   "source": [
    "# 1)Write a python program with exception handling to input the marks for five subjects."
   ]
  },
  {
   "cell_type": "code",
   "execution_count": 4,
   "id": "a167fa52",
   "metadata": {},
   "outputs": [
    {
     "name": "stdout",
     "output_type": "stream",
     "text": [
      "Enter Physics marks: 56\n",
      "Enter Chemistry marks: 78\n",
      "Enter Biology marks: 89\n",
      "Enter Mathematics marks: 99\n",
      "Enter Computer marks: 99\n",
      "Total Marks: 421.0\n",
      "Percentage: 84.20%\n",
      "Grade: B\n"
     ]
    }
   ],
   "source": [
    "try:\n",
    "    # Input marks for each subject\n",
    "    physics = float(input(\"Enter Physics marks: \"))\n",
    "    chemistry = float(input(\"Enter Chemistry marks: \"))\n",
    "    biology = float(input(\"Enter Biology marks: \"))\n",
    "    mathematics = float(input(\"Enter Mathematics marks: \"))\n",
    "    computer = float(input(\"Enter Computer marks: \"))\n",
    "\n",
    "    # Ensure marks are within the valid range (0 to 100)\n",
    "    if any(mark < 0 or mark > 100 for mark in [physics, chemistry, biology, mathematics, computer]):\n",
    "        raise ValueError(\"Marks should be between 0 and 100.\")\n",
    "\n",
    "    # Calculate total marks and percentage\n",
    "    total_marks = physics + chemistry + biology + mathematics + computer\n",
    "    percentage = (total_marks / 500) * 100\n",
    "\n",
    "    # Determine the grade based on percentage\n",
    "    if percentage >= 90:\n",
    "        grade = \"A\"\n",
    "    elif percentage >= 80:\n",
    "        grade = \"B\"\n",
    "    elif percentage >= 70:\n",
    "        grade = \"C\"\n",
    "    elif percentage >= 60:\n",
    "        grade = \"D\"\n",
    "    elif percentage >= 40:\n",
    "        grade = \"E\"\n",
    "    else:\n",
    "        grade = \"F\"\n",
    "\n",
    "    # Display the results\n",
    "    print(f\"Total Marks: {total_marks}\")\n",
    "    print(f\"Percentage: {percentage:.2f}%\")\n",
    "    print(f\"Grade: {grade}\")\n",
    "\n",
    "except ValueError as ve:\n",
    "    print(f\"Invalid input: {ve}\")\n",
    "except Exception as e:\n",
    "    print(f\"An error occurred: {str(e)}\")"
   ]
  },
  {
   "cell_type": "markdown",
   "id": "131ea75e",
   "metadata": {},
   "source": [
    "# 2 ) write a python Program with exception handling to input electricity unit charges and calculate the total electricity bill according to given condition."
   ]
  },
  {
   "cell_type": "code",
   "execution_count": 5,
   "id": "81621b7f",
   "metadata": {},
   "outputs": [
    {
     "name": "stdout",
     "output_type": "stream",
     "text": [
      "Enter electricity units consumed: 45\n",
      "Total electricity bill: Rs. 27.00\n"
     ]
    }
   ],
   "source": [
    "try:\n",
    "    # Input electricity units consumed\n",
    "    units_consumed = float(input(\"Enter electricity units consumed: \"))\n",
    "\n",
    "    # Ensure units consumed is a positive number\n",
    "    if units_consumed <= 0:\n",
    "        raise ValueError(\"Units consumed should be a positive number.\")\n",
    "\n",
    "    # Calculate the total bill based on the given conditions\n",
    "    if units_consumed <= 50:\n",
    "        total_bill = units_consumed * 0.50\n",
    "    elif units_consumed <= 150:\n",
    "        total_bill = 50 * 0.50 + (units_consumed - 50) * 0.75\n",
    "    elif units_consumed <= 250:\n",
    "        total_bill = 50 * 0.50 + 100 * 0.75 + (units_consumed - 150) * 1.20\n",
    "    else:\n",
    "        total_bill = 50 * 0.50 + 100 * 0.75 + 100 * 1.20 + (units_consumed - 250) * 1.50\n",
    "\n",
    "    # Add a 20% surcharge\n",
    "    total_bill_with_surcharge = total_bill + (0.20 * total_bill)\n",
    "\n",
    "    # Display the total bill\n",
    "    print(f\"Total electricity bill: Rs. {total_bill_with_surcharge:.2f}\")\n",
    "\n",
    "except ValueError as ve:\n",
    "    print(f\"Invalid input: {ve}\")\n",
    "except Exception as e:\n",
    "    print(f\"An error occurred: {str(e)}\")"
   ]
  },
  {
   "cell_type": "markdown",
   "id": "673f10a1",
   "metadata": {},
   "source": [
    "#  3) write a python program with exception handling to input the week number and print the weekdays"
   ]
  },
  {
   "cell_type": "code",
   "execution_count": 2,
   "id": "fee280f4",
   "metadata": {},
   "outputs": [
    {
     "name": "stdout",
     "output_type": "stream",
     "text": [
      "Enter the week number (1-7): 5\n",
      "Weekday for week number 5 is Friday\n"
     ]
    }
   ],
   "source": [
    "try:\n",
    "    # Input the week number\n",
    "    week_number = int(input(\"Enter the week number (1-7): \"))\n",
    "\n",
    "    # Ensure the week number is within the valid range (1 to 7)\n",
    "    if week_number < 1 or week_number > 7:\n",
    "        raise ValueError(\"Week number should be between 1 and 7.\")\n",
    "\n",
    "    # Define a list of weekdays\n",
    "    weekdays = [\"Monday\", \"Tuesday\", \"Wednesday\", \"Thursday\", \"Friday\", \"Saturday\", \"Sunday\"]\n",
    "\n",
    "    # Print the corresponding weekday\n",
    "    print(f\"Weekday for week number {week_number} is {weekdays[week_number - 1]}\")\n",
    "\n",
    "except ValueError as ve:\n",
    "    print(f\"Invalid input: {ve}\")\n",
    "except Exception as e:\n",
    "    print(f\"An error occurred: {str(e)}\")"
   ]
  },
  {
   "cell_type": "code",
   "execution_count": null,
   "id": "fe72d4c6",
   "metadata": {},
   "outputs": [],
   "source": [
    "4)-->command line arguments"
   ]
  },
  {
   "cell_type": "code",
   "execution_count": null,
   "id": "cd12583c",
   "metadata": {},
   "outputs": [],
   "source": [
    "5)--->collab"
   ]
  },
  {
   "cell_type": "code",
   "execution_count": null,
   "id": "e6af525b",
   "metadata": {},
   "outputs": [],
   "source": [
    "6)---->command line arguments"
   ]
  }
 ],
 "metadata": {
  "kernelspec": {
   "display_name": "Python 3 (ipykernel)",
   "language": "python",
   "name": "python3"
  },
  "language_info": {
   "codemirror_mode": {
    "name": "ipython",
    "version": 3
   },
   "file_extension": ".py",
   "mimetype": "text/x-python",
   "name": "python",
   "nbconvert_exporter": "python",
   "pygments_lexer": "ipython3",
   "version": "3.11.4"
  }
 },
 "nbformat": 4,
 "nbformat_minor": 5
}
