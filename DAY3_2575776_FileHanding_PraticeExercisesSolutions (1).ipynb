{
 "cells": [
  {
   "cell_type": "markdown",
   "id": "8bd7c810",
   "metadata": {},
   "source": [
    "# Write a python that reads and writes upto 50 characters at a time"
   ]
  },
  {
   "cell_type": "code",
   "execution_count": null,
   "id": "c3d517a2",
   "metadata": {},
   "outputs": [],
   "source": [
    "file= open(\"demo.txt\",\"x\")"
   ]
  },
  {
   "cell_type": "code",
   "execution_count": 9,
   "id": "6354100e",
   "metadata": {},
   "outputs": [],
   "source": [
    "file=open(\"demo.txt\",\"r\")"
   ]
  },
  {
   "cell_type": "code",
   "execution_count": 11,
   "id": "ce55122d",
   "metadata": {},
   "outputs": [],
   "source": [
    "file=open(\"demo.txt\",\"w\")"
   ]
  },
  {
   "cell_type": "code",
   "execution_count": 12,
   "id": "d6304b63",
   "metadata": {},
   "outputs": [
    {
     "data": {
      "text/plain": [
       "False"
      ]
     },
     "execution_count": 12,
     "metadata": {},
     "output_type": "execute_result"
    }
   ],
   "source": [
    "file.readable()"
   ]
  },
  {
   "cell_type": "code",
   "execution_count": 14,
   "id": "aeb72396",
   "metadata": {},
   "outputs": [],
   "source": [
    "file.close()"
   ]
  },
  {
   "cell_type": "code",
   "execution_count": 16,
   "id": "01f41ae0",
   "metadata": {},
   "outputs": [
    {
     "name": "stdout",
     "output_type": "stream",
     "text": [
      "<_io.TextIOWrapper name='fibo.py' mode='r' encoding='cp1252'>\n"
     ]
    }
   ],
   "source": [
    "file=open(\"fibo.py\",\"x\")\n",
    "file=open(\"fibo.py\",\"r\")\n",
    "print(file)"
   ]
  },
  {
   "cell_type": "code",
   "execution_count": 17,
   "id": "f7bf7e7a",
   "metadata": {},
   "outputs": [
    {
     "data": {
      "text/plain": [
       "''"
      ]
     },
     "execution_count": 17,
     "metadata": {},
     "output_type": "execute_result"
    }
   ],
   "source": [
    "file.read()"
   ]
  },
  {
   "cell_type": "code",
   "execution_count": 18,
   "id": "2d067056",
   "metadata": {},
   "outputs": [
    {
     "data": {
      "text/plain": [
       "''"
      ]
     },
     "execution_count": 18,
     "metadata": {},
     "output_type": "execute_result"
    }
   ],
   "source": [
    "file.read()"
   ]
  },
  {
   "cell_type": "code",
   "execution_count": 19,
   "id": "cb09a9c4",
   "metadata": {},
   "outputs": [
    {
     "data": {
      "text/plain": [
       "''"
      ]
     },
     "execution_count": 19,
     "metadata": {},
     "output_type": "execute_result"
    }
   ],
   "source": [
    "file.readline()"
   ]
  },
  {
   "cell_type": "code",
   "execution_count": 21,
   "id": "cc0415c2",
   "metadata": {},
   "outputs": [
    {
     "data": {
      "text/plain": [
       "''"
      ]
     },
     "execution_count": 21,
     "metadata": {},
     "output_type": "execute_result"
    }
   ],
   "source": [
    "file=open(\"fibo.py\",\"r\")\n",
    "file.readline()"
   ]
  },
  {
   "cell_type": "code",
   "execution_count": 22,
   "id": "abfb1cc3",
   "metadata": {},
   "outputs": [
    {
     "data": {
      "text/plain": [
       "'def stri(s):\\n'"
      ]
     },
     "execution_count": 22,
     "metadata": {},
     "output_type": "execute_result"
    }
   ],
   "source": [
    "file=open(\"demo.txt\",\"r\")\n",
    "file.readline()"
   ]
  },
  {
   "cell_type": "code",
   "execution_count": 24,
   "id": "6adb9cad",
   "metadata": {},
   "outputs": [
    {
     "data": {
      "text/plain": [
       "True"
      ]
     },
     "execution_count": 24,
     "metadata": {},
     "output_type": "execute_result"
    }
   ],
   "source": [
    "file=open(\"fibo.py\",\"a\")\n",
    "file.writable()"
   ]
  },
  {
   "cell_type": "code",
   "execution_count": 33,
   "id": "46395c60",
   "metadata": {},
   "outputs": [
    {
     "data": {
      "text/plain": [
       "50"
      ]
     },
     "execution_count": 33,
     "metadata": {},
     "output_type": "execute_result"
    }
   ],
   "source": [
    "file.write(\"\"\"strit(s):\n",
    "    d={\"UPPER_CASE\" \n",
    "  \n",
    "\n",
    "stri('Mphasis')\"\"\")"
   ]
  },
  {
   "cell_type": "markdown",
   "id": "5260492b",
   "metadata": {},
   "source": [
    "# Write a python that reads and writes upto 50 characters at a time"
   ]
  },
  {
   "cell_type": "code",
   "execution_count": 59,
   "id": "1e6f533a",
   "metadata": {},
   "outputs": [
    {
     "name": "stdout",
     "output_type": "stream",
     "text": [
      "File copied successfully.\n"
     ]
    }
   ],
   "source": [
    "def copy_file(input_file_path, output_file_path):\n",
    "    try:\n",
    "        with open(input_file_path, 'rb') as input_file, open(output_file_path, 'wb') as output_file:\n",
    "            while True:\n",
    "                chunk = input_file.read(50)  \n",
    "                if not chunk:\n",
    "                    break\n",
    "                output_file.write(chunk)  \n",
    "        print(\"File copied successfully.\")\n",
    "    except FileNotFoundError:\n",
    "        print(\"File not found.\")\n",
    "    except Exception as e:\n",
    "        print(\"An error occurred:\", str(e))\n",
    "\n",
    "input_file_path = 'demo.txt'\n",
    "output_file_path = 'output.txt'\n",
    "copy_file(input_file_path, output_file_path)"
   ]
  },
  {
   "cell_type": "markdown",
   "id": "b8184699",
   "metadata": {},
   "source": [
    "# print all numbers present in the text file and print the number of blank spaces in that file"
   ]
  },
  {
   "cell_type": "code",
   "execution_count": 34,
   "id": "cc2bab19",
   "metadata": {},
   "outputs": [
    {
     "name": "stdout",
     "output_type": "stream",
     "text": [
      "118\n"
     ]
    }
   ],
   "source": [
    "#blanckspaces in the text file\n",
    "file = open(\"demo.txt\", \"r\")\n",
    "  \n",
    "count = 0\n",
    "while True:\n",
    "    \n",
    "    # this will read each character\n",
    "    # and store in char\n",
    "    char = file.read(1)\n",
    "      \n",
    "    if char.isspace():\n",
    "        count += 1\n",
    "    if not char:\n",
    "        break\n",
    "  \n",
    "print(count)"
   ]
  },
  {
   "cell_type": "code",
   "execution_count": 39,
   "id": "74308ed6",
   "metadata": {},
   "outputs": [
    {
     "name": "stdout",
     "output_type": "stream",
     "text": [
      "0\n",
      "0\n",
      "1\n",
      "1\n"
     ]
    }
   ],
   "source": [
    "#numbers present in the text file \n",
    "with open(\"demo.txt\",\"r\") as file:\n",
    "    for line in file:\n",
    "        words= line.split()\n",
    "        for i in words:\n",
    "            for letter in i:\n",
    "                if(letter.isdigit()):\n",
    "                    print(letter)\n"
   ]
  },
  {
   "cell_type": "markdown",
   "id": "9fe8a26e",
   "metadata": {},
   "source": [
    "# 3) Write a function called sed that takes as arguments a pattern string, a replacement string, and two filenames; it should read the first file and write the contents into the second file (creating it if necessary). If the pattern string appears anywhere in the file, it should be replaced with the replacement string. If an error occurs while opening, reading, writing or closing files, your program should catch the exception, print an error message, and exit"
   ]
  },
  {
   "cell_type": "code",
   "execution_count": 47,
   "id": "fb3934f0",
   "metadata": {},
   "outputs": [],
   "source": [
    "def sed(pattern, replace, source, dest):\n",
    "    \n",
    "    try:\n",
    "       \n",
    "        f_input = open(source, 'r')\n",
    "        try:\n",
    "          \n",
    "            f_output = open(dest,'w')\n",
    "            \n",
    "\n",
    "            for line in f_input:\n",
    "          \n",
    "                line = line.replace(pattern, replace)\n",
    "                \n",
    "             \n",
    "                f_output.write(line)\n",
    "                \n",
    "         \n",
    "            f_output.close()\n",
    "        \n",
    "        except IOError:\n",
    "            \n",
    "            print('\\nError. Unable to open file for writing')\n",
    "            \n",
    "          \n",
    "            f_input.close()\n",
    "        \n",
    "    except IOError:\n",
    "        print('\\nError. Unable to open file for reading')\n",
    "        \n",
    "def main():\n",
    "\n",
    "    pattern_str = 'case'\n",
    "\n",
    "    replace_str = 'cause'\n",
    "    \n",
    "\n",
    "    source_file = 'demo.txt'\n",
    "    \n",
    "\n",
    "    dest_file = source_file.split('.')[0] + '_replaced.txt'\n",
    "    \n",
    "\n",
    "    sed(pattern_str, replace_str, source_file, dest_file)\n",
    "\n",
    "if __name__ == '__main__':\n",
    "    \n",
    "    main()"
   ]
  },
  {
   "cell_type": "markdown",
   "id": "bfdb4fc2",
   "metadata": {},
   "source": [
    "# 4)"
   ]
  },
  {
   "cell_type": "code",
   "execution_count": 89,
   "id": "9eda74c8",
   "metadata": {},
   "outputs": [
    {
     "name": "stdout",
     "output_type": "stream",
     "text": [
      "Error: Log file not found.\n"
     ]
    }
   ],
   "source": [
    "#4-->A)\n",
    "def analyze_log_file(log_file_path):\n",
    "    try:\n",
    "        with open(log_file_path, 'r') as log_file:\n",
    "            log_entries = log_file.readlines()\n",
    "\n",
    "        unique_users = set()\n",
    "        action_counts = {}\n",
    "\n",
    "        for entry in log_entries:\n",
    "            parts = entry.strip().split(',')  # Assuming a CSV-like format\n",
    "            if len(parts) >= 3:\n",
    "                timestamp, user_id, action = parts[0], parts[1], parts[2]\n",
    "                unique_users.add(user_id)\n",
    "\n",
    "                if action in action_counts:\n",
    "                    action_counts[action] += 1\n",
    "                else:\n",
    "                    action_counts[action] = 1\n",
    "\n",
    "        print(f\"Number of unique users: {len(unique_users)}\")\n",
    "        most_common_action = max(action_counts, key=action_counts.get)\n",
    "        print(f\"Most common action: {most_common_action} ({action_counts[most_common_action]} times)\")\n",
    "\n",
    "    except FileNotFoundError:\n",
    "        print(\"Error: Log file not found.\")\n",
    "    except Exception as e:\n",
    "        print(f\"An error occurred: {str(e)}\")\n",
    "\n",
    "\n",
    "\n",
    "log_file_path = 'access.log'\n",
    "analyze_log_file(log_file_path)"
   ]
  },
  {
   "cell_type": "code",
   "execution_count": null,
   "id": "cd5a6c40",
   "metadata": {},
   "outputs": [],
   "source": []
  },
  {
   "cell_type": "code",
   "execution_count": 71,
   "id": "c9484b74",
   "metadata": {},
   "outputs": [
    {
     "name": "stdout",
     "output_type": "stream",
     "text": [
      "Error: Log file not found.\n"
     ]
    }
   ],
   "source": [
    "def analyze_log_file(log_file_path):\n",
    "    try:\n",
    "        def log_entries_generator():\n",
    "            with open(log_file_path, 'r') as log_file:\n",
    "                for line in log_file:\n",
    "                    yield line\n",
    "\n",
    "        unique_users = set()\n",
    "        action_counts = {}\n",
    "\n",
    "        for entry in log_entries_generator():\n",
    "            parts = entry.strip().split(',')\n",
    "            if len(parts) >= 3:\n",
    "                timestamp, user_id, action = parts[0], parts[1], parts[2]\n",
    "                unique_users.add(user_id)\n",
    "\n",
    "                if action in action_counts:\n",
    "                    action_counts[action] += 1\n",
    "                else:\n",
    "                    action_counts[action] = 1\n",
    "\n",
    "        print(f\"Number of unique users: {len(unique_users)}\")\n",
    "        most_common_action = max(action_counts, key=action_counts.get)\n",
    "        print(f\"Most common action: {most_common_action} ({action_counts[most_common_action]} times)\")\n",
    "\n",
    "    except FileNotFoundError:\n",
    "        print(\"Error: Log file not found.\")\n",
    "    except Exception as e:\n",
    "        print(f\"An error occurred: {str(e)}\")\n",
    "\n",
    "# Example usage:\n",
    "log_file_path = 'access.log'\n",
    "analyze_log_file(log_file_path)"
   ]
  },
  {
   "cell_type": "markdown",
   "id": "df028470",
   "metadata": {},
   "source": [
    "# 5)A"
   ]
  },
  {
   "cell_type": "code",
   "execution_count": 91,
   "id": "6efa63e8",
   "metadata": {},
   "outputs": [
    {
     "name": "stdout",
     "output_type": "stream",
     "text": [
      "Replacement of 'old_text' with 'new_text' complete.\n"
     ]
    }
   ],
   "source": [
    "def search_and_replace(file_path, search_str, replace_str):\n",
    "    try:\n",
    "        # Open the file for reading\n",
    "        with open(file_path, 'r') as file:\n",
    "            # Read the content of the file\n",
    "            file_content = file.read()\n",
    "\n",
    "        # Perform the search and replace operation\n",
    "        updated_content = file_content.replace(search_str, replace_str)\n",
    "\n",
    "        # Open the file for writing and overwrite its content\n",
    "        with open(file_path, 'w') as file:\n",
    "            file.write(updated_content)\n",
    "\n",
    "        print(f\"Replacement of '{search_str}' with '{replace_str}' complete.\")\n",
    "\n",
    "    except FileNotFoundError:\n",
    "        print(\"File not found.\")\n",
    "    except Exception as e:\n",
    "        print(f\"An error occurred: {str(e)}\")\n",
    "\n",
    "# Example usage:\n",
    "search_and_replace('sample.txt', 'old_text', 'new_text')"
   ]
  },
  {
   "cell_type": "markdown",
   "id": "64239aba",
   "metadata": {},
   "source": [
    "# 5) A"
   ]
  },
  {
   "cell_type": "code",
   "execution_count": 95,
   "id": "3892816e",
   "metadata": {},
   "outputs": [
    {
     "name": "stdout",
     "output_type": "stream",
     "text": [
      "Text replaced\n"
     ]
    }
   ],
   "source": [
    " \n",
    "search_text = \"by\"\n",
    "  \n",
    "replace_text = \"by (replaced)\"\n",
    "  \n",
    "with open(r'Sample.txt', 'r') as file:\n",
    "  \n",
    "    data = file.read()\n",
    "  \n",
    "    data = data.replace(search_text, replace_text)\n",
    "\n",
    "with open(r'Sample.txt', 'w') as file:\n",
    "  \n",
    "   \n",
    "    file.write(data)\n",
    "  \n",
    "\n",
    "print(\"Text replaced\")"
   ]
  },
  {
   "cell_type": "markdown",
   "id": "4bb4afa1",
   "metadata": {},
   "source": [
    "# 5)B"
   ]
  },
  {
   "cell_type": "code",
   "execution_count": 107,
   "id": "01dda51c",
   "metadata": {},
   "outputs": [
    {
     "name": "stdout",
     "output_type": "stream",
     "text": [
      "The original string is : The file stored in python format\n",
      "The string after replacement of positions : The file stored in python format\n"
     ]
    }
   ],
   "source": [
    "# define the input string\n",
    "test_str = \"The file stored in python format\"\n",
    "# printing original string\n",
    "print(\"The original string is : \" + str(test_str))\n",
    " \n",
    "\n",
    "# if the character is 'a', replace it with 'b'\n",
    "# if the character is 'b', replace it with 'a'\n",
    "# if the character is anything else, leave it unchanged\n",
    "new_str = ''.join(['The' if char == 'This' else 'in' if char == 'By' else char for char in test_str])\n",
    " \n",
    "# print the new string\n",
    "print(\"The string after replacement of positions : \" +new_str)\n",
    "\n"
   ]
  },
  {
   "cell_type": "markdown",
   "id": "9d3ff650",
   "metadata": {},
   "source": [
    "# 6)"
   ]
  },
  {
   "cell_type": "code",
   "execution_count": 117,
   "id": "1a642222",
   "metadata": {},
   "outputs": [
    {
     "name": "stdout",
     "output_type": "stream",
     "text": [
      "Concatenation complete. Output written to output.txt\n"
     ]
    }
   ],
   "source": [
    "file=open(\"file1.txt\",\"x\")\n",
    "file=open(\"file2.txt\",\"x\")\n",
    "file=open(\"file3.txt\",\"x\")\n",
    "def concatenate_files(input_files, output_file):\n",
    "    try:\n",
    "        with open(output_file, 'w') as output:\n",
    "            for input_file in input_files:\n",
    "                with open(input_file, 'r') as file:\n",
    "                    output.write(file.read())\n",
    "\n",
    "        print(f\"Concatenation complete. Output written to {output_file}\")\n",
    "\n",
    "    except FileNotFoundError:\n",
    "        print(\"One or more input files not found.\")\n",
    "    except Exception as e:\n",
    "        print(f\"An error occurred: {str(e)}\")\n",
    "\n",
    "# Example usage:\n",
    "input_files = ['file1.txt', 'file2.txt', 'file3.txt']  # List of input files\n",
    "output_file = 'output.txt'  # Output file\n",
    "\n",
    "concatenate_files(input_files, output_file)"
   ]
  },
  {
   "cell_type": "markdown",
   "id": "df1c53bb",
   "metadata": {},
   "source": [
    "# 7)ur given input file containing the list of words,one word per line . You task is to create a pthyon program that reads a contents of input.txt, process the words and writes the result  to output file named output.txt"
   ]
  },
  {
   "cell_type": "code",
   "execution_count": 85,
   "id": "df405f21",
   "metadata": {},
   "outputs": [
    {
     "name": "stdout",
     "output_type": "stream",
     "text": [
      "Enter string 1: apple\n",
      "Enter string 2: mango\n",
      "Enter string 3: pineaaple\n",
      "Enter string 4: banana\n",
      "Enter string 5: orange\n",
      "The strings have been written to 'input.txt' successfully.\n",
      "Length of 'apple': 5\n",
      "Length of 'mango': 5\n",
      "Length of 'pineaaple': 9\n",
      "Length of 'banana': 6\n",
      "Length of 'orange': 6\n"
     ]
    }
   ],
   "source": [
    "# Get user input for five strings and store them in a list\n",
    "strings = []\n",
    "for i in range(5):\n",
    "    user_input = input(f\"Enter string {i + 1}: \")\n",
    "    strings.append(user_input)\n",
    "\n",
    "# Specify the file path where the strings will be written\n",
    "file_path = \"input.txt\"\n",
    "\n",
    "try:\n",
    "    # Open the file for writing\n",
    "    with open(file_path, 'w') as file:\n",
    "        # Write each string to the file, one per line\n",
    "        for string in strings:\n",
    "            file.write(string + '\\n')\n",
    "        print(f\"The strings have been written to '{file_path}' successfully.\")\n",
    "\n",
    "    # Open the file for reading\n",
    "    with open(file_path, 'r') as file:\n",
    "        # Read each line and print the length of the string\n",
    "        for line in file:\n",
    "            string_length = len(line.strip())  # Remove newline character\n",
    "            print(f\"Length of '{line.strip()}': {string_length}\")\n",
    "\n",
    "except Exception as e:\n",
    "    print(f\"An error occurred: {str(e)}\")"
   ]
  },
  {
   "cell_type": "markdown",
   "id": "6bedbc90",
   "metadata": {},
   "source": [
    "# 8"
   ]
  },
  {
   "cell_type": "code",
   "execution_count": null,
   "id": "e8b9c6e0",
   "metadata": {},
   "outputs": [],
   "source": [
    "import os\n",
    "\n",
    "def input_grades(subject):\n",
    "    try:\n",
    "        with open(f\"{subject}.txt\", \"a\") as file:\n",
    "            while True:\n",
    "                student_name = input(\"Enter student name (or 'done' to finish): \")\n",
    "                if student_name.lower() == \"done\":\n",
    "                    break\n",
    "                grade = input(f\"Enter {student_name}'s grade for {subject}: \")\n",
    "                file.write(f\"{student_name}: {grade}\\n\")\n",
    "        print(f\"Grades for {subject} have been recorded successfully.\")\n",
    "    except Exception as e:\n",
    "        print(f\"An error occurred: {str(e)}\")\n",
    "\n",
    "def view_grades(subject):\n",
    "    try:\n",
    "        with open(f\"{subject}.txt\", \"r\") as file:\n",
    "            print(f\"Grades for {subject}:\")\n",
    "            for line in file:\n",
    "                print(line.strip())\n",
    "    except FileNotFoundError:\n",
    "        print(f\"Grades for {subject} not found.\")\n",
    "    except Exception as e:\n",
    "        print(f\"An error occurred: {str(e)}\")\n",
    "\n",
    "while True:\n",
    "    print(\"\\nStudent Gradebook System\")\n",
    "    print(\"1. Input Grades\")\n",
    "    print(\"2. View Grades\")\n",
    "    print(\"3. Exit\")\n",
    "\n",
    "    choice = input(\"Select an option (1/2/3): \")\n",
    "\n",
    "    if choice == \"1\":\n",
    "        subject = input(\"Enter the subject name: \")\n",
    "        input_grades(subject)\n",
    "    elif choice == \"2\":\n",
    "        subject = input(\"Enter the subject name: \")\n",
    "        view_grades(subject)\n",
    "    elif choice == \"3\":\n",
    "        break\n",
    "    else:\n",
    "        print(\"Invalid choice. Please select 1, 2, or 3.\")"
   ]
  },
  {
   "cell_type": "code",
   "execution_count": null,
   "id": "b909710e",
   "metadata": {},
   "outputs": [],
   "source": [
    " Path. cwd()"
   ]
  },
  {
   "cell_type": "code",
   "execution_count": null,
   "id": "0b59237b",
   "metadata": {},
   "outputs": [],
   "source": []
  }
 ],
 "metadata": {
  "kernelspec": {
   "display_name": "Python 3 (ipykernel)",
   "language": "python",
   "name": "python3"
  },
  "language_info": {
   "codemirror_mode": {
    "name": "ipython",
    "version": 3
   },
   "file_extension": ".py",
   "mimetype": "text/x-python",
   "name": "python",
   "nbconvert_exporter": "python",
   "pygments_lexer": "ipython3",
   "version": "3.11.4"
  }
 },
 "nbformat": 4,
 "nbformat_minor": 5
}
