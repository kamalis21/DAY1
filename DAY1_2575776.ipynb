{
 "cells": [
  {
   "cell_type": "markdown",
   "id": "4a8910fc",
   "metadata": {},
   "source": [
    "# Manipulate using a list\n",
    "fundamentals of manipulation\n"
   ]
  },
  {
   "cell_type": "code",
   "execution_count": 4,
   "id": "38ce6657",
   "metadata": {},
   "outputs": [
    {
     "data": {
      "text/plain": [
       "[7, 8, 776, 45, 12]"
      ]
     },
     "execution_count": 4,
     "metadata": {},
     "output_type": "execute_result"
    }
   ],
   "source": [
    "#append the elements at end of the list\n",
    "lst = [7,8,776,45]\n",
    "lst.append(12)\n",
    "lst"
   ]
  },
  {
   "cell_type": "code",
   "execution_count": 5,
   "id": "91d9bceb",
   "metadata": {},
   "outputs": [
    {
     "data": {
      "text/plain": [
       "[26, 76, 85]"
      ]
     },
     "execution_count": 5,
     "metadata": {},
     "output_type": "execute_result"
    }
   ],
   "source": [
    "# reverse elements in the list \n",
    "lst=[85,76,26]\n",
    "lst.reverse()\n",
    "lst\n"
   ]
  },
  {
   "cell_type": "code",
   "execution_count": 7,
   "id": "af614ef0",
   "metadata": {},
   "outputs": [
    {
     "data": {
      "text/plain": [
       "[[10], [10]]"
      ]
     },
     "execution_count": 7,
     "metadata": {},
     "output_type": "execute_result"
    }
   ],
   "source": [
    "# display the same list of elements multiple times \n",
    "a=[10]\n",
    "b=[a]* 2\n",
    "b"
   ]
  },
  {
   "cell_type": "code",
   "execution_count": 14,
   "id": "1ffd0ec1",
   "metadata": {},
   "outputs": [
    {
     "name": "stdout",
     "output_type": "stream",
     "text": [
      "[1, 2, 3, 4, 5, 6]\n"
     ]
    }
   ],
   "source": [
    "#concatenate two list\n",
    "lst1=[1,2,3]\n",
    "lst2=[4,5,6]\n",
    "lst1.extend(lst2)\n",
    "print(lsst)"
   ]
  },
  {
   "cell_type": "code",
   "execution_count": 18,
   "id": "e0b13ae8",
   "metadata": {},
   "outputs": [
    {
     "name": "stdout",
     "output_type": "stream",
     "text": [
      "[0, 1, 23, 46, 86, 756]\n"
     ]
    }
   ],
   "source": [
    "#sort the elements in list in ASC\n",
    "Order=[23,86,46,756,0,1]\n",
    "Order.sort()\n",
    "print(Order)"
   ]
  },
  {
   "cell_type": "markdown",
   "id": "f0f823a7",
   "metadata": {},
   "source": [
    "# python program to do tuples"
   ]
  },
  {
   "cell_type": "code",
   "execution_count": 25,
   "id": "52276075",
   "metadata": {},
   "outputs": [
    {
     "data": {
      "text/plain": [
       "123"
      ]
     },
     "execution_count": 25,
     "metadata": {},
     "output_type": "execute_result"
    }
   ],
   "source": [
    "# tuple manipulation\n",
    "tup=[123,456,789]\n",
    "tup[0]\n"
   ]
  },
  {
   "cell_type": "code",
   "execution_count": 26,
   "id": "35d50753",
   "metadata": {},
   "outputs": [
    {
     "name": "stdout",
     "output_type": "stream",
     "text": [
      "(2, 5, 9)\n",
      "(2, 5, 9, 11, 56)\n"
     ]
    }
   ],
   "source": [
    "#add elements in tuple \n",
    "tu=[(2,5,9)]\n",
    "s_tu= tu + (11,56)\n",
    "print(tu)\n",
    "print(s_tu)"
   ]
  },
  {
   "cell_type": "code",
   "execution_count": 34,
   "id": "cf660d68",
   "metadata": {},
   "outputs": [
    {
     "name": "stdout",
     "output_type": "stream",
     "text": [
      "Original tuple is :  (2, 5, 123, 9)\n",
      " reversed tuple is :   (9, 123, 5, 2)\n"
     ]
    }
   ],
   "source": [
    "# reverse the element in tuple\n",
    "tum=(2,5,123,9)\n",
    "print(\"Original tuple is : \",tum)\n",
    "tums=tuple(reversed(tum))\n",
    "print(\" reversed tuple is :  \",tums)"
   ]
  },
  {
   "cell_type": "code",
   "execution_count": 37,
   "id": "14a4ef0f",
   "metadata": {},
   "outputs": [
    {
     "data": {
      "text/plain": [
       "(2, 5, 123, 9, 2, 5, 123, 9, 2, 5, 123, 9)"
      ]
     },
     "execution_count": 37,
     "metadata": {},
     "output_type": "execute_result"
    }
   ],
   "source": [
    "#to display the elements of the same tuple multiple times\n",
    "tume=tum*3\n",
    "tume"
   ]
  },
  {
   "cell_type": "code",
   "execution_count": 38,
   "id": "d479542a",
   "metadata": {},
   "outputs": [
    {
     "data": {
      "text/plain": [
       "(2, 5, 123, 9, 9, 123, 5, 2)"
      ]
     },
     "execution_count": 38,
     "metadata": {},
     "output_type": "execute_result"
    }
   ],
   "source": [
    "tuma=tum + tums\n",
    "tuma"
   ]
  },
  {
   "cell_type": "code",
   "execution_count": 46,
   "id": "8698624d",
   "metadata": {},
   "outputs": [
    {
     "data": {
      "text/plain": [
       "[123, 456, 789]"
      ]
     },
     "execution_count": 46,
     "metadata": {},
     "output_type": "execute_result"
    }
   ],
   "source": [
    "abc = sorted(tup)\n",
    "abc"
   ]
  },
  {
   "cell_type": "code",
   "execution_count": 47,
   "id": "f707571b",
   "metadata": {},
   "outputs": [
    {
     "data": {
      "text/plain": [
       "[10, 20, 30, 40, 50, 60, 70, 80, 90, 100]"
      ]
     },
     "execution_count": 47,
     "metadata": {},
     "output_type": "execute_result"
    }
   ],
   "source": [
    "# python program to implement the folowing list\n",
    "#3*1 create a list with integers\n",
    "inti=[10,20,30,40,50,60,70,80,90,100]\n",
    "inti"
   ]
  },
  {
   "cell_type": "code",
   "execution_count": 50,
   "id": "122f324a",
   "metadata": {},
   "outputs": [
    {
     "data": {
      "text/plain": [
       "100"
      ]
     },
     "execution_count": 50,
     "metadata": {},
     "output_type": "execute_result"
    }
   ],
   "source": [
    "#Display last number in list\n",
    "last_Element= inti[-1]\n",
    "last_Element"
   ]
  },
  {
   "cell_type": "code",
   "execution_count": 61,
   "id": "e9ea3c46",
   "metadata": {},
   "outputs": [
    {
     "data": {
      "text/plain": [
       "'HELLOWORLD'"
      ]
     },
     "execution_count": 61,
     "metadata": {},
     "output_type": "execute_result"
    }
   ],
   "source": [
    "#command for displaying the value from the list[0:4]\n",
    "s=\"HELLOWORLD\"\n",
    "s\n"
   ]
  },
  {
   "cell_type": "code",
   "execution_count": 62,
   "id": "75e70268",
   "metadata": {},
   "outputs": [
    {
     "data": {
      "text/plain": [
       "'HELL'"
      ]
     },
     "execution_count": 62,
     "metadata": {},
     "output_type": "execute_result"
    }
   ],
   "source": [
    "s[0:4]"
   ]
  },
  {
   "cell_type": "code",
   "execution_count": 63,
   "id": "950a3ac3",
   "metadata": {},
   "outputs": [
    {
     "data": {
      "text/plain": [
       "'LLOWORLD'"
      ]
     },
     "execution_count": 63,
     "metadata": {},
     "output_type": "execute_result"
    }
   ],
   "source": [
    "s[2:]"
   ]
  },
  {
   "cell_type": "code",
   "execution_count": 64,
   "id": "9341897f",
   "metadata": {},
   "outputs": [
    {
     "data": {
      "text/plain": [
       "'HELLOW'"
      ]
     },
     "execution_count": 64,
     "metadata": {},
     "output_type": "execute_result"
    }
   ],
   "source": [
    "s[:6]"
   ]
  },
  {
   "cell_type": "markdown",
   "id": "daadacbe",
   "metadata": {},
   "source": [
    "# python program : tuple1=(10,50,20,40,30)"
   ]
  },
  {
   "cell_type": "code",
   "execution_count": 70,
   "id": "0946502d",
   "metadata": {},
   "outputs": [
    {
     "data": {
      "text/plain": [
       "[10, 50]"
      ]
     },
     "execution_count": 70,
     "metadata": {},
     "output_type": "execute_result"
    }
   ],
   "source": [
    "#display 10 abd 50\n",
    "tuple1=[10,50,20,40,30]\n",
    "tuple1[0:2]"
   ]
  },
  {
   "cell_type": "code",
   "execution_count": 71,
   "id": "c5abce51",
   "metadata": {},
   "outputs": [
    {
     "data": {
      "text/plain": [
       "5"
      ]
     },
     "execution_count": 71,
     "metadata": {},
     "output_type": "execute_result"
    }
   ],
   "source": [
    "#length of tuple1\n",
    "tuple2=len(tuple1)\n",
    "tuple2"
   ]
  },
  {
   "cell_type": "code",
   "execution_count": 72,
   "id": "e8d5bf48",
   "metadata": {},
   "outputs": [
    {
     "data": {
      "text/plain": [
       "10"
      ]
     },
     "execution_count": 72,
     "metadata": {},
     "output_type": "execute_result"
    }
   ],
   "source": [
    "#minimum element of tuple1\n",
    "tuple3=min(tuple1)\n",
    "tuple3"
   ]
  },
  {
   "cell_type": "code",
   "execution_count": 139,
   "id": "85b66a0a",
   "metadata": {},
   "outputs": [
    {
     "data": {
      "text/plain": [
       "150"
      ]
     },
     "execution_count": 139,
     "metadata": {},
     "output_type": "execute_result"
    }
   ],
   "source": [
    "# add all elements from tuple1\n",
    "tuple4=sum(tuple1)\n",
    "tuple4"
   ]
  },
  {
   "cell_type": "code",
   "execution_count": null,
   "id": "2f0f4796",
   "metadata": {},
   "outputs": [],
   "source": [
    "tuple5=5*tuple1\n",
    "tuple5"
   ]
  },
  {
   "cell_type": "markdown",
   "id": "572eb82a",
   "metadata": {},
   "source": [
    "# PYTHON PROGRAM"
   ]
  },
  {
   "cell_type": "code",
   "execution_count": 78,
   "id": "ecb37142",
   "metadata": {},
   "outputs": [
    {
     "data": {
      "text/plain": [
       "7"
      ]
     },
     "execution_count": 78,
     "metadata": {},
     "output_type": "execute_result"
    }
   ],
   "source": [
    "#CALCULATE THE LENGTH OF STRING\n",
    "name=\"kamalis\"\n",
    "Result= len(name)\n",
    "Result"
   ]
  },
  {
   "cell_type": "code",
   "execution_count": 77,
   "id": "9c363bff",
   "metadata": {},
   "outputs": [
    {
     "name": "stdout",
     "output_type": "stream",
     "text": [
      "5\n"
     ]
    }
   ],
   "source": [
    "#length\n",
    "x = len(\"Hello\")\n",
    "\n",
    "print(x)"
   ]
  },
  {
   "cell_type": "code",
   "execution_count": 94,
   "id": "9df026ee",
   "metadata": {},
   "outputs": [
    {
     "data": {
      "text/plain": [
       "'silamak'"
      ]
     },
     "execution_count": 94,
     "metadata": {},
     "output_type": "execute_result"
    }
   ],
   "source": [
    "#reverse the string\n",
    "name[7::-1]"
   ]
  },
  {
   "cell_type": "code",
   "execution_count": 96,
   "id": "649150ed",
   "metadata": {},
   "outputs": [
    {
     "name": "stdout",
     "output_type": "stream",
     "text": [
      " India\n"
     ]
    }
   ],
   "source": [
    "#slicing \n",
    "str1=\"South India\"\n",
    "print(str1[5:])"
   ]
  },
  {
   "cell_type": "code",
   "execution_count": 103,
   "id": "34f134fc",
   "metadata": {},
   "outputs": [
    {
     "name": "stdout",
     "output_type": "stream",
     "text": [
      "South IndiaSouth India\n"
     ]
    }
   ],
   "source": [
    "#Display the same string multile times\n",
    "print(   str1*2 )"
   ]
  },
  {
   "cell_type": "code",
   "execution_count": 104,
   "id": "40b5382e",
   "metadata": {},
   "outputs": [
    {
     "data": {
      "text/plain": [
       "'kamali'"
      ]
     },
     "execution_count": 104,
     "metadata": {},
     "output_type": "execute_result"
    }
   ],
   "source": [
    "#concatenate two strings\n",
    "a=\"kam\"\n",
    "b=\"ali\"\n",
    "c=a + b\n",
    "c"
   ]
  },
  {
   "cell_type": "markdown",
   "id": "ebad24d9",
   "metadata": {},
   "source": [
    "# Perform the following\n",
    "\n"
   ]
  },
  {
   "cell_type": "code",
   "execution_count": 112,
   "id": "a0e3c8a1",
   "metadata": {},
   "outputs": [
    {
     "data": {
      "text/plain": [
       "{1: 'a', 2: 'b'}"
      ]
     },
     "execution_count": 112,
     "metadata": {},
     "output_type": "execute_result"
    }
   ],
   "source": [
    "#Dictionary\n",
    "Dic={1:\"a\",2:\"b\",}\n",
    "Dic"
   ]
  },
  {
   "cell_type": "code",
   "execution_count": 116,
   "id": "c5b360d7",
   "metadata": {},
   "outputs": [
    {
     "data": {
      "text/plain": [
       "{1: 'a', 2: 'b', 3: 'c'}"
      ]
     },
     "execution_count": 116,
     "metadata": {},
     "output_type": "execute_result"
    }
   ],
   "source": [
    "# update elements in dic\n",
    "Dic.update({3:\"c\"})\n",
    "Dic"
   ]
  },
  {
   "cell_type": "code",
   "execution_count": 119,
   "id": "e6c799da",
   "metadata": {},
   "outputs": [
    {
     "data": {
      "text/plain": [
       "{1: 'a', 2: 'b'}"
      ]
     },
     "execution_count": 119,
     "metadata": {},
     "output_type": "execute_result"
    }
   ],
   "source": [
    "#delete elements in DIc\n",
    "Dic.pop(3)\n",
    "Dic"
   ]
  },
  {
   "cell_type": "markdown",
   "id": "7e366b17",
   "metadata": {},
   "source": [
    "# Program to insert a number of any position in a list\n"
   ]
  },
  {
   "cell_type": "code",
   "execution_count": 128,
   "id": "5d758be4",
   "metadata": {},
   "outputs": [
    {
     "data": {
      "text/plain": [
       "[1, 2, 3, 4, 5, 6, 8]"
      ]
     },
     "execution_count": 128,
     "metadata": {},
     "output_type": "execute_result"
    }
   ],
   "source": [
    "lsst=[1,2,4,5,8]\n",
    "lsst.insert(2,3)\n",
    "lsst.insert(5,6)\n",
    "lsst"
   ]
  },
  {
   "cell_type": "markdown",
   "id": "dffc3433",
   "metadata": {},
   "source": [
    "# DELETE A ELEMENT IN LIST\n"
   ]
  },
  {
   "cell_type": "code",
   "execution_count": 132,
   "id": "1c4c7f24",
   "metadata": {},
   "outputs": [
    {
     "data": {
      "text/plain": [
       "[1, 3, 4, 5, 6, 8]"
      ]
     },
     "execution_count": 132,
     "metadata": {},
     "output_type": "execute_result"
    }
   ],
   "source": [
    "lsst.remove(2)\n",
    "lsst"
   ]
  },
  {
   "cell_type": "markdown",
   "id": "000a6e6d",
   "metadata": {},
   "source": [
    "# Display 1 to 100\n"
   ]
  },
  {
   "cell_type": "code",
   "execution_count": 135,
   "id": "e089569e",
   "metadata": {},
   "outputs": [
    {
     "name": "stdout",
     "output_type": "stream",
     "text": [
      "1\n",
      "2\n",
      "3\n",
      "4\n",
      "5\n",
      "6\n",
      "7\n",
      "8\n",
      "9\n",
      "10\n",
      "11\n",
      "12\n",
      "13\n",
      "14\n",
      "15\n",
      "16\n",
      "17\n",
      "18\n",
      "19\n",
      "20\n",
      "21\n",
      "22\n",
      "23\n",
      "24\n",
      "25\n",
      "26\n",
      "27\n",
      "28\n",
      "29\n",
      "30\n",
      "31\n",
      "32\n",
      "33\n",
      "34\n",
      "35\n",
      "36\n",
      "37\n",
      "38\n",
      "39\n",
      "40\n",
      "41\n",
      "42\n",
      "43\n",
      "44\n",
      "45\n",
      "46\n",
      "47\n",
      "48\n",
      "49\n",
      "50\n",
      "51\n",
      "52\n",
      "53\n",
      "54\n",
      "55\n",
      "56\n",
      "57\n",
      "58\n",
      "59\n",
      "60\n",
      "61\n",
      "62\n",
      "63\n",
      "64\n",
      "65\n",
      "66\n",
      "67\n",
      "68\n",
      "69\n",
      "70\n",
      "71\n",
      "72\n",
      "73\n",
      "74\n",
      "75\n",
      "76\n",
      "77\n",
      "78\n",
      "79\n",
      "80\n",
      "81\n",
      "82\n",
      "83\n",
      "84\n",
      "85\n",
      "86\n",
      "87\n",
      "88\n",
      "89\n",
      "90\n",
      "91\n",
      "92\n",
      "93\n",
      "94\n",
      "95\n",
      "96\n",
      "97\n",
      "98\n",
      "99\n",
      "100\n"
     ]
    }
   ],
   "source": [
    "i=1\n",
    "while(i<101):\n",
    "    print (i)\n",
    "    i=i+1\n",
    "    \n",
    "    "
   ]
  },
  {
   "cell_type": "markdown",
   "id": "860fd805",
   "metadata": {},
   "source": [
    "# Sum of all items in tuple1"
   ]
  },
  {
   "cell_type": "code",
   "execution_count": 138,
   "id": "e212b158",
   "metadata": {},
   "outputs": [
    {
     "ename": "AttributeError",
     "evalue": "'list' object has no attribute 'add'",
     "output_type": "error",
     "traceback": [
      "\u001b[1;31m---------------------------------------------------------------------------\u001b[0m",
      "\u001b[1;31mAttributeError\u001b[0m                            Traceback (most recent call last)",
      "Cell \u001b[1;32mIn[138], line 1\u001b[0m\n\u001b[1;32m----> 1\u001b[0m tuple1\u001b[38;5;241m.\u001b[39madd()\n",
      "\u001b[1;31mAttributeError\u001b[0m: 'list' object has no attribute 'add'"
     ]
    }
   ],
   "source": [
    "tuple1.add()"
   ]
  },
  {
   "cell_type": "code",
   "execution_count": 140,
   "id": "be4c0901",
   "metadata": {},
   "outputs": [
    {
     "data": {
      "text/plain": [
       "150"
      ]
     },
     "execution_count": 140,
     "metadata": {},
     "output_type": "execute_result"
    }
   ],
   "source": [
    "t1=sum(tuple1)\n",
    "t1"
   ]
  },
  {
   "cell_type": "code",
   "execution_count": null,
   "id": "ffe5b47e",
   "metadata": {},
   "outputs": [],
   "source": []
  }
 ],
 "metadata": {
  "kernelspec": {
   "display_name": "Python 3 (ipykernel)",
   "language": "python",
   "name": "python3"
  },
  "language_info": {
   "codemirror_mode": {
    "name": "ipython",
    "version": 3
   },
   "file_extension": ".py",
   "mimetype": "text/x-python",
   "name": "python",
   "nbconvert_exporter": "python",
   "pygments_lexer": "ipython3",
   "version": "3.11.4"
  }
 },
 "nbformat": 4,
 "nbformat_minor": 5
}
