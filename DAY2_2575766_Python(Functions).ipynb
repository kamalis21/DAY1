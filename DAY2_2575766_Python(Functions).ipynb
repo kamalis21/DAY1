{
 "cells": [
  {
   "cell_type": "markdown",
   "id": "7fce13b6",
   "metadata": {},
   "source": [
    "# 1) Write a python program to print odd and even numbers in a alist"
   ]
  },
  {
   "cell_type": "code",
   "execution_count": 1,
   "id": "854c11a0",
   "metadata": {},
   "outputs": [
    {
     "name": "stdout",
     "output_type": "stream",
     "text": [
      "Even List:  [20, 12, 2]\n",
      "Odd List:  [43, 53, 53, 5, 3]\n"
     ]
    }
   ],
   "source": [
    "nums = [43, 20, 53, 12, 53, 5, 3, 2]\n",
    "\n",
    "even = []\n",
    "odd = []\n",
    "\n",
    "for i in nums:\n",
    "    if(i % 2 == 0):\n",
    "        even.append(i)\n",
    "    else:\n",
    "        odd.append(i)\n",
    "        \n",
    "print(\"Even List: \",even)\n",
    "print(\"Odd List: \",odd)"
   ]
  },
  {
   "cell_type": "markdown",
   "id": "e7e6f441",
   "metadata": {},
   "source": [
    "# 2) write and run a python program that asks the user to enter & enterand ten prints out how many of those integers were even numbers"
   ]
  },
  {
   "cell_type": "code",
   "execution_count": 11,
   "id": "de7c2029",
   "metadata": {},
   "outputs": [
    {
     "name": "stdout",
     "output_type": "stream",
     "text": [
      "Even numbers in the list:  3\n",
      "Odd numbers in the list:  4\n"
     ]
    }
   ],
   "source": [
    "list1 = [10, 21, 4, 45, 66, 93, 1]\n",
    " \n",
    "even_count, odd_count = 0, 0\n",
    " \n",
    "\n",
    "for num in list1:\n",
    " \n",
    "    # checking condition\n",
    "    if num % 2 == 0:\n",
    "        even_count += 1\n",
    " \n",
    "    else:\n",
    "        odd_count += 1\n",
    " \n",
    "print(\"Even numbers in the list: \", even_count)\n",
    "print(\"Odd numbers in the list: \", odd_count)"
   ]
  },
  {
   "cell_type": "markdown",
   "id": "90733841",
   "metadata": {},
   "source": [
    "# 3) Write a Python program where you take any positive integer n, if n is even, divide it by 2 to get n / 2. If n is odd, multiply it by 3 and add 1 to obtain 3n + 1. Repeat the process until you reach 1."
   ]
  },
  {
   "cell_type": "code",
   "execution_count": 12,
   "id": "cbdc35f6",
   "metadata": {},
   "outputs": [
    {
     "name": "stdout",
     "output_type": "stream",
     "text": [
      "[12, 6.0, 3.0, 10.0, 5.0, 16.0, 8.0, 4.0, 2.0, 1.0]\n",
      "[19, 58, 29.0, 88.0, 44.0, 22.0, 11.0, 34.0, 17.0, 52.0, 26.0, 13.0, 40.0, 20.0, 10.0, 5.0, 16.0, 8.0, 4.0, 2.0, 1.0]\n"
     ]
    }
   ],
   "source": [
    "def positiveint(x):\n",
    "    num_seq = [x]\n",
    "    if x < 1:\n",
    "       return []\n",
    "    while x > 1:\n",
    "       if x % 2 == 0:\n",
    "         x = x / 2\n",
    "       else:\n",
    "         x = 3 * x + 1\n",
    "  \n",
    "       num_seq.append(x)    \n",
    "    return num_seq\n",
    "\n",
    "print(positiveint(12))\n",
    "\n",
    "print(positiveint(19))"
   ]
  },
  {
   "cell_type": "markdown",
   "id": "e63ba1ae",
   "metadata": {},
   "source": [
    "# 4) write a python program to compute the sum of all the multiples of 3 or 5 below 500"
   ]
  },
  {
   "cell_type": "code",
   "execution_count": 13,
   "id": "a1664b1c",
   "metadata": {},
   "outputs": [
    {
     "name": "stdout",
     "output_type": "stream",
     "text": [
      "57918\n"
     ]
    }
   ],
   "source": [
    "n = 0\n",
    "for i in range(1,500):\n",
    "     if not i % 5 or not i % 3:\n",
    "         n = n + i\n",
    "print(n)"
   ]
  },
  {
   "cell_type": "markdown",
   "id": "244af01f",
   "metadata": {},
   "source": [
    "# 5) Program to print prime numbers from 1 to N"
   ]
  },
  {
   "cell_type": "code",
   "execution_count": 18,
   "id": "ae74a4d0",
   "metadata": {},
   "outputs": [
    {
     "name": "stdout",
     "output_type": "stream",
     "text": [
      "2 3 5 7 "
     ]
    }
   ],
   "source": [
    "\n",
    "def isPrime(n):\n",
    "\n",
    "  if(n==1 or n==0):\n",
    "    return False\n",
    "   \n",
    "\n",
    "  for i in range(2,(n//2)+1):\n",
    "  \n",
    "    if(n%i==0):\n",
    "      return False\n",
    "   \n",
    "\n",
    "  return True\n",
    "N = 10;\n",
    "\n",
    "for i in range(1,N+1):\n",
    "  \n",
    "  if(isPrime(i)):\n",
    "    print(i,end=\" \")"
   ]
  },
  {
   "cell_type": "markdown",
   "id": "b19d7d65",
   "metadata": {},
   "source": [
    "# # 6)Write a python program for matrix multiplication"
   ]
  },
  {
   "cell_type": "code",
   "execution_count": 19,
   "id": "d7a152c9",
   "metadata": {},
   "outputs": [
    {
     "name": "stdout",
     "output_type": "stream",
     "text": [
      "[114, 160, 60, 27]\n",
      "[74, 97, 73, 14]\n",
      "[119, 157, 112, 23]\n"
     ]
    }
   ],
   "source": [
    "A = [[12, 7, 3],\n",
    "    [4, 5, 6],\n",
    "    [7, 8, 9]]\n",
    " \n",
    "\n",
    "B = [[5, 8, 1, 2],\n",
    "    [6, 7, 3, 0],\n",
    "    [4, 5, 9, 1]]\n",
    " \n",
    "\n",
    "result = [[sum(a * b for a, b in zip(A_row, B_col))\n",
    "                        for B_col in zip(*B)]\n",
    "                                for A_row in A]\n",
    " \n",
    "for r in result:\n",
    "    print(r)"
   ]
  },
  {
   "cell_type": "markdown",
   "id": "25753f39",
   "metadata": {},
   "source": [
    "# 7)Python program to count the number of vowels in a string"
   ]
  },
  {
   "cell_type": "code",
   "execution_count": 20,
   "id": "2dfee134",
   "metadata": {},
   "outputs": [
    {
     "name": "stdout",
     "output_type": "stream",
     "text": [
      "Enter the string :Kamali\n",
      "Vowels are :3\n"
     ]
    }
   ],
   "source": [
    "String = input('Enter the string :')\n",
    "count = 0\n",
    "\n",
    "String = String.lower()\n",
    "for i in String:\n",
    "    if i == 'a' or i == 'e' or i == 'i' or i == 'o' or i == 'u':\n",
    "        \n",
    "        count+=1\n",
    "\n",
    "if count == 0:\n",
    "    print('No vowels')\n",
    "else:\n",
    "    print('Vowels are :' + str(count))"
   ]
  },
  {
   "cell_type": "markdown",
   "id": "b0c79285",
   "metadata": {},
   "source": [
    "# 8)Python Program to Find Factorial of Number Using Recursion"
   ]
  },
  {
   "cell_type": "code",
   "execution_count": 21,
   "id": "cc766f87",
   "metadata": {},
   "outputs": [
    {
     "name": "stdout",
     "output_type": "stream",
     "text": [
      "The factorial of 7 is 5040\n"
     ]
    }
   ],
   "source": [
    "def recur_factorial(n):\n",
    "   if n == 1:\n",
    "       return n\n",
    "   else:\n",
    "       return n*recur_factorial(n-1)\n",
    "\n",
    "num = 7\n",
    "\n",
    "\n",
    "if num < 0:\n",
    "   print(\"factorial does not exists\")\n",
    "elif num == 0:\n",
    "   print(\"The factorial of 0 is 1\")\n",
    "else:\n",
    "   print(\"The factorial of\", num, \"is\", recur_factorial(num))"
   ]
  },
  {
   "cell_type": "markdown",
   "id": "645ce782",
   "metadata": {},
   "source": [
    "# 9) write a python function for generating the fibonacci series using a function"
   ]
  },
  {
   "cell_type": "code",
   "execution_count": 24,
   "id": "fe507a65",
   "metadata": {},
   "outputs": [
    {
     "name": "stdout",
     "output_type": "stream",
     "text": [
      "Enter :  5\n",
      "Fibonacci sequence:\n",
      "0\n",
      "1\n",
      "1\n",
      "2\n",
      "3\n"
     ]
    }
   ],
   "source": [
    "\n",
    "\n",
    "nterms = int(input(\"Enter :  \"))\n",
    "\n",
    "\n",
    "n1, n2 = 0, 1\n",
    "count = 0\n",
    "\n",
    "if nterms <= 0:\n",
    "   print(\"Please enter a positive integer\")\n",
    "\n",
    "elif nterms == 1:\n",
    "   print(\"Fibonacci sequence upto\",nterms,\":\")\n",
    "   print(n1)\n",
    "\n",
    "else:\n",
    "   print(\"Fibonacci sequence:\")\n",
    "   while count < nterms:\n",
    "       print(n1)\n",
    "       nth = n1 + n2\n",
    "     \n",
    "       n1 = n2\n",
    "       n2 = nth\n",
    "       count += 1"
   ]
  },
  {
   "cell_type": "markdown",
   "id": "d64b0b9e",
   "metadata": {},
   "source": [
    "# 10) python program to display the given integer in reverse order "
   ]
  },
  {
   "cell_type": "code",
   "execution_count": 25,
   "id": "d5554fa4",
   "metadata": {},
   "outputs": [
    {
     "name": "stdout",
     "output_type": "stream",
     "text": [
      "Reversed Number: 4321\n"
     ]
    }
   ],
   "source": [
    "num = 1234\n",
    "reversed_num = 0\n",
    "\n",
    "while num != 0:\n",
    "    digit = num % 10\n",
    "    reversed_num = reversed_num * 10 + digit\n",
    "    num //= 10\n",
    "\n",
    "print(\"Reversed Number: \" + str(reversed_num))"
   ]
  },
  {
   "cell_type": "markdown",
   "id": "e311fdbe",
   "metadata": {},
   "source": [
    "# 11) Python Program To Display All Integers Within The Range 100-200 Whose Sum Of Digits Is An Even Number"
   ]
  },
  {
   "cell_type": "code",
   "execution_count": 26,
   "id": "4e072b23",
   "metadata": {},
   "outputs": [
    {
     "name": "stdout",
     "output_type": "stream",
     "text": [
      "All Integers are is = ['101', '103', '105', '107', '109', '110', '112', '114', '116', '118', '121', '123', '125', '127', '129', '130', '132', '134', '136', '138', '141', '143', '145', '147', '149', '150', '152', '154', '156', '158', '161', '163', '165', '167', '169', '170', '172', '174', '176', '178', '181', '183', '185', '187', '189', '190', '192', '194', '196', '198', '200']\n"
     ]
    }
   ],
   "source": [
    "list=[]                   \n",
    "for i in range(100,201):  \n",
    "    i=str(i)              \n",
    "    sum=0                  \n",
    "    for j in i:           \n",
    "        j=int(j)          \n",
    "        sum=sum+j         \n",
    "    if sum%2==0:         \n",
    "        list.append(i)    \n",
    "print('All Integers are is =',list)"
   ]
  },
  {
   "cell_type": "markdown",
   "id": "1eb7b07f",
   "metadata": {},
   "source": [
    "# 12) Python Program for Sum the digits for a  given number"
   ]
  },
  {
   "cell_type": "code",
   "execution_count": 28,
   "id": "aebbb182",
   "metadata": {},
   "outputs": [
    {
     "name": "stdout",
     "output_type": "stream",
     "text": [
      "6\n"
     ]
    }
   ],
   "source": [
    "def getSum(n):\n",
    "    \n",
    "    sum = 0\n",
    "    for digit in str(n): \n",
    "      sum += int(digit)      \n",
    "    return sum\n",
    "   \n",
    "n = 123\n",
    "print(getSum(n))"
   ]
  },
  {
   "cell_type": "markdown",
   "id": "5567555b",
   "metadata": {},
   "source": [
    "# 14 Python Program to Find the Total Sum of a Nested List Using Recursion"
   ]
  },
  {
   "cell_type": "code",
   "execution_count": 36,
   "id": "077d830f",
   "metadata": {},
   "outputs": [],
   "source": [
    "def sum_nestedlist(l):\n",
    "    stack = l\n",
    "    total = 0\n",
    "     \n",
    "    while stack:\n",
    "        elem = stack.pop()\n",
    "        if type(elem) == list:\n",
    "            stack.extend(elem)\n",
    "        else:\n",
    "            total += elem\n",
    "     \n",
    "    return total\n",
    " \n"
   ]
  },
  {
   "cell_type": "code",
   "execution_count": null,
   "id": "eedd79d5",
   "metadata": {},
   "outputs": [],
   "source": [
    "13 "
   ]
  },
  {
   "cell_type": "code",
   "execution_count": 37,
   "id": "b1a163f5",
   "metadata": {},
   "outputs": [
    {
     "name": "stdout",
     "output_type": "stream",
     "text": [
      "is_sorted(list1): True\n",
      "is_sorted(list2): True\n",
      "is_sorted(list3): False\n",
      "has_duplicates(list1): False\n",
      "has_duplicates(list2): True\n",
      "has_duplicates(list3): False\n"
     ]
    }
   ],
   "source": [
    "def is_sorted(arr):\n",
    "    \n",
    "    return all(arr[i] <= arr[i + 1] for i in range(len(arr) - 1))\n",
    "\n",
    "def has_duplicates(arr):\n",
    "    \n",
    "    unique_elements = set()\n",
    "\n",
    "    for item in arr:\n",
    "        \n",
    "        if item in unique_elements:\n",
    "            return True\n",
    "        unique_elements.add(item)\n",
    "\n",
    "    \n",
    "    return False\n",
    "\n",
    "list1 = [1, 2, 3, 4, 5]\n",
    "list2 = [1, 2, 2, 3, 4]\n",
    "list3 = [5, 4, 3, 2, 1]\n",
    "\n",
    "\n",
    "print(\"is_sorted(list1):\", is_sorted(list1))  \n",
    "print(\"is_sorted(list2):\", is_sorted(list2))  \n",
    "print(\"is_sorted(list3):\", is_sorted(list3)) \n",
    "\n",
    "\n",
    "print(\"has_duplicates(list1):\", has_duplicates(list1))  \n",
    "print(\"has_duplicates(list2):\", has_duplicates(list2))  \n",
    "print(\"has_duplicates(list3):\", has_duplicates(list3))"
   ]
  },
  {
   "cell_type": "code",
   "execution_count": null,
   "id": "8cadbcd1",
   "metadata": {},
   "outputs": [],
   "source": []
  }
 ],
 "metadata": {
  "kernelspec": {
   "display_name": "Python 3 (ipykernel)",
   "language": "python",
   "name": "python3"
  },
  "language_info": {
   "codemirror_mode": {
    "name": "ipython",
    "version": 3
   },
   "file_extension": ".py",
   "mimetype": "text/x-python",
   "name": "python",
   "nbconvert_exporter": "python",
   "pygments_lexer": "ipython3",
   "version": "3.11.4"
  }
 },
 "nbformat": 4,
 "nbformat_minor": 5
}
