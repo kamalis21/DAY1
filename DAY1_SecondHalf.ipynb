{
 "cells": [
  {
   "cell_type": "code",
   "execution_count": 48,
   "id": "c7fb735a",
   "metadata": {},
   "outputs": [],
   "source": [
    "# Write a python program to find first N  numbers"
   ]
  },
  {
   "cell_type": "code",
   "execution_count": 1,
   "id": "0387a02e",
   "metadata": {},
   "outputs": [
    {
     "name": "stdout",
     "output_type": "stream",
     "text": [
      "Enter any Number: 7\n",
      " Numbers between 1 and 7 are:\n",
      "2\n",
      "3\n",
      "5\n",
      "7\n"
     ]
    }
   ],
   "source": [
    "\n",
    "Num1 = int(input(\"Enter any Number: \"))\n",
    " \n",
    "print(\" Numbers between\", 1, \"and\", Num1, \"are:\")\n",
    " \n",
    "for num in range(1, Num1 + 1):\n",
    "   # all prime numbers are greater than 1\n",
    "   if num > 1:\n",
    "       for i in range(2, num):\n",
    "           if (num % i) == 0:\n",
    "               break\n",
    "       else:\n",
    "           print(num)"
   ]
  },
  {
   "cell_type": "markdown",
   "id": "9d8889b0",
   "metadata": {},
   "source": [
    "# Write the python code that calculates the salary of an employee."
   ]
  },
  {
   "cell_type": "code",
   "execution_count": 3,
   "id": "8fef28ee",
   "metadata": {},
   "outputs": [
    {
     "name": "stdout",
     "output_type": "stream",
     "text": [
      "Enter the salary:10000\n",
      "Gross Salary =  16000.0\n"
     ]
    }
   ],
   "source": [
    "salary=int(input(\"Enter the salary:\"))\n",
    "da=0.4*salary;\n",
    "hra=0.2*salary;\n",
    "gross_salary=salary+da+hra;\n",
    "print(\"Gross Salary = \",gross_salary)"
   ]
  },
  {
   "cell_type": "markdown",
   "id": "b1fc9635",
   "metadata": {},
   "source": [
    "# Write a python program to search for a string in the given list.\n"
   ]
  },
  {
   "cell_type": "code",
   "execution_count": 10,
   "id": "983febce",
   "metadata": {},
   "outputs": [
    {
     "name": "stdout",
     "output_type": "stream",
     "text": [
      "Z is not present in the list\n"
     ]
    }
   ],
   "source": [
    "aam = ['K', 'a', 'm', 'a', 'l', 'i', 's']\n",
    "\n",
    "# string in the list\n",
    "if 'M' in aam:\n",
    "    print('M is present in the list')\n",
    "\n",
    "# string not in the list\n",
    "if 'Z' not in aam:\n",
    "    print('Z is not present in the list')"
   ]
  },
  {
   "cell_type": "markdown",
   "id": "1a92480d",
   "metadata": {},
   "source": [
    "# Write a python function that accepts a string & calculates the number of upper case letters & lower case letters"
   ]
  },
  {
   "cell_type": "code",
   "execution_count": 12,
   "id": "a8e9deff",
   "metadata": {},
   "outputs": [
    {
     "name": "stdout",
     "output_type": "stream",
     "text": [
      "Original String :  Mphasis\n",
      "No. of Upper case characters :  1\n",
      "No. of Lower case Characters :  6\n"
     ]
    }
   ],
   "source": [
    "def stri(s):\n",
    "    d={\"UPPER_CASE\":0, \"LOWER_CASE\":0}\n",
    "    for c in s:\n",
    "        if c.isupper():\n",
    "           d[\"UPPER_CASE\"]+=1\n",
    "        elif c.islower():\n",
    "           d[\"LOWER_CASE\"]+=1\n",
    "        else:\n",
    "           pass\n",
    "    print (\"Original String : \", s)\n",
    "    print (\"No. of Upper case characters : \", d[\"UPPER_CASE\"])\n",
    "    print (\"No. of Lower case Characters : \", d[\"LOWER_CASE\"])\n",
    "\n",
    "stri('Mphasis')"
   ]
  },
  {
   "cell_type": "markdown",
   "id": "391c6d57",
   "metadata": {},
   "source": [
    "# Write a program to display the sum of odd numbers and even numbers that fall between 12 and 37\n"
   ]
  },
  {
   "cell_type": "code",
   "execution_count": 14,
   "id": "79b7471e",
   "metadata": {},
   "outputs": [
    {
     "name": "stdout",
     "output_type": "stream",
     "text": [
      "Sum of even numbers: 312\n",
      "Sum of odd numbers: 325\n"
     ]
    }
   ],
   "source": [
    "\n",
    "sum_odd_Number = 0\n",
    "sum_even_Number = 0\n",
    "\n",
    "\n",
    "for num in range(12, 38):\n",
    "    \n",
    "    if num % 2 == 0:\n",
    "      \n",
    "        sum_even_Number += num\n",
    "    else:\n",
    "       \n",
    "        sum_odd_Number += num\n",
    "\n",
    "print(\"Sum of even numbers:\", sum_even_Number)\n",
    "print(\"Sum of odd numbers:\", sum_odd_Number)"
   ]
  },
  {
   "cell_type": "markdown",
   "id": "09a89d94",
   "metadata": {},
   "source": [
    "# Write a python program to print the table of any number"
   ]
  },
  {
   "cell_type": "code",
   "execution_count": 18,
   "id": "b0213066",
   "metadata": {},
   "outputs": [
    {
     "name": "stdout",
     "output_type": "stream",
     "text": [
      "Enter the number : 8\n",
      "The Table of:  8\n",
      "1  x  8 = 8\n",
      "2  x  8 = 16\n",
      "3  x  8 = 24\n",
      "4  x  8 = 32\n",
      "5  x  8 = 40\n",
      "6  x  8 = 48\n",
      "7  x  8 = 56\n",
      "8  x  8 = 64\n",
      "9  x  8 = 72\n",
      "10  x  8 = 80\n"
     ]
    }
   ],
   "source": [
    "number = int(input (\"Enter the number : \"))      \n",
    "      \n",
    "print (\"The Table of: \", number)    \n",
    "for count in range(1, 11):      \n",
    "   print (count, ' x ',number , '=', number * count)"
   ]
  },
  {
   "cell_type": "markdown",
   "id": "4e2b7ee3",
   "metadata": {},
   "source": [
    "# Write a python program to sum the first 10 prime numbers"
   ]
  },
  {
   "cell_type": "code",
   "execution_count": 21,
   "id": "f441c283",
   "metadata": {},
   "outputs": [
    {
     "name": "stdout",
     "output_type": "stream",
     "text": [
      "\n",
      " enter the last number :10\n",
      "sum of prime numbers 10\n",
      "\n",
      "The sum of prime numbers from 1 to  10  is : 15\n"
     ]
    }
   ],
   "source": [
    "Last_number = int(input(\"\\n enter the last number :\"))\n",
    "print (\"sum of prime numbers\", Last_number)\n",
    "sum = 0\n",
    "\n",
    "for number in range(2, Last_number + 1):\n",
    "\n",
    "    i = 2\n",
    "    for i in range(2, number):\n",
    "        if (int(number % i) == 0):\n",
    "            i = number\n",
    "            break;\n",
    "\n",
    "    if i is not number:\n",
    "        sum = sum + number\n",
    "print(\"\\nThe sum of prime numbers from 1 to \", Last_number, \" is :\", sum)"
   ]
  },
  {
   "cell_type": "markdown",
   "id": "81d05864",
   "metadata": {},
   "source": [
    "# Write a python program to implement arithmetic operations using nested if statement\n"
   ]
  },
  {
   "cell_type": "code",
   "execution_count": 22,
   "id": "a9eefcf3",
   "metadata": {},
   "outputs": [
    {
     "name": "stdout",
     "output_type": "stream",
     "text": [
      "Enter the first number: 45\n",
      "Enter the second number: 12\n",
      "Enter an arithmetic operation (+, -, *, /): +\n",
      "Result: 57.0\n"
     ]
    }
   ],
   "source": [
    "\n",
    "num1 = float(input(\"Enter the first number: \"))\n",
    "num2 = float(input(\"Enter the second number: \"))\n",
    "\n",
    "\n",
    "operation = input(\"Enter an arithmetic operation (+, -, *, /): \")\n",
    "\n",
    "if operation == \"+\":\n",
    "    result = num1 + num2\n",
    "elif operation == \"-\":\n",
    "    result = num1 - num2\n",
    "elif operation == \"*\":\n",
    "    result = num1 * num2\n",
    "elif operation == \"/\":\n",
    "    if num2 != 0:\n",
    "        result = num1 / num2\n",
    "    else:\n",
    "        result = \"Division by zero is not allowed.\"\n",
    "else:\n",
    "    result = \"Invalid operation\"\n",
    "\n",
    "print(f\"Result: {result}\")"
   ]
  },
  {
   "cell_type": "markdown",
   "id": "bd29fb62",
   "metadata": {},
   "source": [
    "# Write a python program to take the temperature in celsius and convert it to a fahrenheit"
   ]
  },
  {
   "cell_type": "code",
   "execution_count": 24,
   "id": "51f10384",
   "metadata": {},
   "outputs": [
    {
     "name": "stdout",
     "output_type": "stream",
     "text": [
      "104.00 Fahrenheit is equivalent to: 40.00 Celsius\n"
     ]
    }
   ],
   "source": [
    "fahrenheit = 104\n",
    "\n",
    "celsius = (fahrenheit-32)/1.8\n",
    "\n",
    "print('%.2f Fahrenheit is equivalent to: %.2f Celsius'\n",
    "      % (fahrenheit ,celsius))"
   ]
  },
  {
   "cell_type": "markdown",
   "id": "8bd2657a",
   "metadata": {},
   "source": [
    "# Write a python program to find a maximum and minimum number in a list without using an inbuilt function."
   ]
  },
  {
   "cell_type": "code",
   "execution_count": null,
   "id": "00f4b9f5",
   "metadata": {},
   "outputs": [],
   "source": [
    "# def mm(data):\n",
    "  l = data[0]\n",
    "  s = data[0]\n",
    "  for num in data:\n",
    "    if num> l:\n",
    "      l = num\n",
    "    elif num< s:\n",
    "        s = num\n",
    "  return l, s\n",
    "\n",
    "print(mm([456, 2, 30, 85, 0, 4, 39, 28, 888]))"
   ]
  },
  {
   "cell_type": "markdown",
   "id": "9a380243",
   "metadata": {},
   "source": [
    "# Write a program in python to print out the number of seconds in 30 day month 30 days,24hours in a day,60 minutes per day,60 seconds in a minute"
   ]
  },
  {
   "cell_type": "code",
   "execution_count": 27,
   "id": "47bcc644",
   "metadata": {},
   "outputs": [
    {
     "name": "stdout",
     "output_type": "stream",
     "text": [
      "The number of seconds in 30 days is: 2592000\n"
     ]
    }
   ],
   "source": [
    "DaysInMonth = 30\n",
    "HoursInDay = 24\n",
    "MinutesPerHour = 60\n",
    "SecondsPerMinute = 60\n",
    "\n",
    "seconds30days = DaysInMonth * HoursInDay * MinutesPerHour * SecondsPerMinute\n",
    "\n",
    "# Display the result\n",
    "print(f\"The number of seconds in 30 days is: {seconds30days}\")"
   ]
  },
  {
   "cell_type": "markdown",
   "id": "4909d20d",
   "metadata": {},
   "source": [
    "# Write a program in python to print out the number of seconds in a year"
   ]
  },
  {
   "cell_type": "code",
   "execution_count": 29,
   "id": "9d822a00",
   "metadata": {},
   "outputs": [
    {
     "name": "stdout",
     "output_type": "stream",
     "text": [
      "The number of seconds in a year is: 31536000 seconds\n"
     ]
    }
   ],
   "source": [
    "DaysInYear = 365\n",
    "HoursInDay = 24\n",
    "MinutesPerHour = 60\n",
    "SecondsPerMinute = 60\n",
    "\n",
    "TotalSeconds =  DaysInYear* HoursInDay * MinutesPerHour*SecondsPerMinute\n",
    "\n",
    "# Display the result\n",
    "print(f\"The number of seconds in a year is: {TotalSeconds} seconds\")"
   ]
  },
  {
   "cell_type": "markdown",
   "id": "2f16beea",
   "metadata": {},
   "source": [
    "# A high speed train can travel at an average speed of 150mph,\n",
    "how long will it take a train travelling at this speed to travel from london to glasgow which is 414 miles away?\n"
   ]
  },
  {
   "cell_type": "code",
   "execution_count": 32,
   "id": "ce31188b",
   "metadata": {},
   "outputs": [
    {
     "name": "stdout",
     "output_type": "stream",
     "text": [
      "It will take 2 hours and 45.60 minutes \n"
     ]
    }
   ],
   "source": [
    "\n",
    "distance = 414\n",
    "speed = 150\n",
    "\n",
    "\n",
    "TimeHours = distance / speed\n",
    "\n",
    "# Convert hours to hours and minutes\n",
    "hours = int(TimeHours)\n",
    "minutes = (TimeHours - hours) * 60\n",
    "\n",
    "# Print the result\n",
    "print(f\"It will take {hours} hours and {minutes:.2f} minutes \")"
   ]
  },
  {
   "cell_type": "markdown",
   "id": "78742694",
   "metadata": {},
   "source": [
    "# Write a python program that defines a variables called days_in_each_school_year and assign 192 to the variable.The program should then print out the total hours that you spend in school from year 7 to year 11 if each day you spend 6 hours in school days_in_each_school_year = 192"
   ]
  },
  {
   "cell_type": "code",
   "execution_count": 38,
   "id": "87e42666",
   "metadata": {
    "scrolled": true
   },
   "outputs": [
    {
     "ename": "TypeError",
     "evalue": "'int' object is not callable",
     "output_type": "error",
     "traceback": [
      "\u001b[1;31m---------------------------------------------------------------------------\u001b[0m",
      "\u001b[1;31mTypeError\u001b[0m                                 Traceback (most recent call last)",
      "Cell \u001b[1;32mIn[38], line 6\u001b[0m\n\u001b[0;32m      1\u001b[0m days_school_year \u001b[38;5;241m=\u001b[39m \u001b[38;5;241m192\u001b[39m\n\u001b[0;32m      3\u001b[0m years \u001b[38;5;241m=\u001b[39m \u001b[38;5;28mrange\u001b[39m(\u001b[38;5;241m7\u001b[39m, \u001b[38;5;241m12\u001b[39m)\n\u001b[1;32m----> 6\u001b[0m total_hours \u001b[38;5;241m=\u001b[39m \u001b[38;5;28msum\u001b[39m(year \u001b[38;5;241m*\u001b[39m days_school_year \u001b[38;5;241m*\u001b[39m \u001b[38;5;241m6\u001b[39m \u001b[38;5;28;01mfor\u001b[39;00m year \u001b[38;5;129;01min\u001b[39;00m years)\n\u001b[0;32m      9\u001b[0m \u001b[38;5;28mprint\u001b[39m(\u001b[38;5;124mf\u001b[39m\u001b[38;5;124m\"\u001b[39m\u001b[38;5;124mTotal hours spent in school from year 7 to year 11: \u001b[39m\u001b[38;5;132;01m{\u001b[39;00mtotal_hours\u001b[38;5;132;01m}\u001b[39;00m\u001b[38;5;124m hours\u001b[39m\u001b[38;5;124m\"\u001b[39m)\n",
      "\u001b[1;31mTypeError\u001b[0m: 'int' object is not callable"
     ]
    }
   ],
   "source": [
    "days_school_year = 192\n",
    "\n",
    "years = range(7, 12)\n",
    "\n",
    "\n",
    "total_hours = sum(year * days_school_year * 6 for year in years)\n",
    "\n",
    "\n",
    "print(f\"Total hours spent in school from year 7 to year 11: {total_hours} hours\")"
   ]
  },
  {
   "cell_type": "markdown",
   "id": "6345f456",
   "metadata": {},
   "source": [
    "# If the age of Ram,sam and khan are input through the keyboard,write a python program to determine the eldest and youngest of the three"
   ]
  },
  {
   "cell_type": "code",
   "execution_count": 40,
   "id": "4d40f192",
   "metadata": {},
   "outputs": [
    {
     "name": "stdout",
     "output_type": "stream",
     "text": [
      "Enter mali age: 12\n",
      "Enter mani age: 53\n",
      "Enter magi age: 98\n",
      "The eldest among Mali, Mani, and Magi is: Magi\n",
      "The youngest among Mali, Mani, and Magi is: Mali\n"
     ]
    }
   ],
   "source": [
    "\n",
    "mali = int(input(\"Enter mali age: \"))\n",
    "mani = int(input(\"Enter mani age: \"))\n",
    "magi = int(input(\"Enter magi age: \"))\n",
    "\n",
    "if mali >= mani and mali >= magi:\n",
    "    eldest = \"Mali\"\n",
    "    if mali <= magi:\n",
    "        youngest = \"Mani\"\n",
    "    else:\n",
    "        youngest = \"Magi\"\n",
    "elif mani >= mali and mali >= magi:\n",
    "    eldest = \"Mani\"\n",
    "    if mali <= magi:\n",
    "        youngest = \"Mali\"\n",
    "    else:\n",
    "        youngest = \"Magi\"\n",
    "else:\n",
    "    eldest = \"Magi\"\n",
    "    if mali <= mani:\n",
    "        youngest = \"Mali\"\n",
    "    else:\n",
    "        youngest = \"Mani\"\n",
    "\n",
    "\n",
    "print(f\"The eldest among Mali, Mani, and Magi is: {eldest}\")\n",
    "print(f\"The youngest among Mali, Mani, and Magi is: {youngest}\")"
   ]
  },
  {
   "cell_type": "markdown",
   "id": "3e31e909",
   "metadata": {},
   "source": [
    "# Write a python program to rotate a list by right n times with and without slicing technique"
   ]
  },
  {
   "cell_type": "code",
   "execution_count": 41,
   "id": "dfe6f31f",
   "metadata": {},
   "outputs": [
    {
     "name": "stdout",
     "output_type": "stream",
     "text": [
      "[4, 5, 6, 1, 2, 3]\n"
     ]
    }
   ],
   "source": [
    "n = 3\n",
    " \n",
    "list_1 = [1, 2, 3, 4, 5, 6]\n",
    "list_1 = (list_1[len(list_1) - n:len(list_1)]\n",
    "                 + list_1[0:len(list_1) - n])\n",
    "print(list_1)"
   ]
  },
  {
   "cell_type": "markdown",
   "id": "bce84cb1",
   "metadata": {},
   "source": [
    "# Python program to print the pattern given below\n",
    "1 1 1 1 2 1 1 3 3 1 1 4 6 4 1 1 5 10 10 5 1 1 6 15 20 15 6 1"
   ]
  },
  {
   "cell_type": "code",
   "execution_count": 43,
   "id": "8a9e5f9e",
   "metadata": {},
   "outputs": [
    {
     "name": "stdout",
     "output_type": "stream",
     "text": [
      "Enter the number of rows: 6\n",
      "1 \n",
      "1 1 \n",
      "1 2 1 \n",
      "1 3 3 1 \n",
      "1 4 6 4 1 \n",
      "1 5 10 10 5 1 \n"
     ]
    }
   ],
   "source": [
    "n = int(input(\"Enter the number of rows: \"))\n",
    "\n",
    "\n",
    "def pattern(n, k):\n",
    "    if k == 0 or k == n:\n",
    "        return 1\n",
    "    return pattern(n - 1, k - 1) + pattern(n - 1, k)\n",
    "\n",
    "\n",
    "for i in range(n):\n",
    "    for j in range(i + 1):\n",
    "        print(pattern(i, j), end=\" \")\n",
    "    print()"
   ]
  },
  {
   "cell_type": "code",
   "execution_count": 44,
   "id": "fddeca3f",
   "metadata": {},
   "outputs": [
    {
     "name": "stdout",
     "output_type": "stream",
     "text": [
      "* \r\n",
      "* * \r\n",
      "* * * \r\n",
      "* * * * \r\n",
      "* * * * * \r\n"
     ]
    }
   ],
   "source": [
    "\n",
    "rows = 5\n",
    "for i in range(0, rows):\n",
    "    \n",
    "    for j in range(0, i + 1):\n",
    "        \n",
    "        print(\"*\", end=' ')\n",
    "   \n",
    "    print(\"\\r\")"
   ]
  },
  {
   "cell_type": "code",
   "execution_count": 45,
   "id": "d41bfc02",
   "metadata": {},
   "outputs": [
    {
     "name": "stdout",
     "output_type": "stream",
     "text": [
      "            *   \n",
      "           *  *   \n",
      "          *  *  *   \n",
      "         *  *  *  *   \n",
      "        *  *  *  *  *   \n",
      "       *  *  *  *  *  *   \n",
      "      *  *  *  *  *  *  *   \n"
     ]
    }
   ],
   "source": [
    "size = 7\n",
    "m = (2 * size) - 2\n",
    "for i in range(0, size):\n",
    "    for j in range(0, m):\n",
    "        print(end=\" \")\n",
    "    # decrementing m after each loop\n",
    "    m = m - 1\n",
    "    for j in range(0, i + 1):\n",
    "        print(\"* \", end=' ')\n",
    "    print(\" \")"
   ]
  },
  {
   "cell_type": "code",
   "execution_count": 47,
   "id": "7777347d",
   "metadata": {},
   "outputs": [
    {
     "name": "stdout",
     "output_type": "stream",
     "text": [
      "Enter a string: python\n",
      "p\n",
      "py\n",
      "pyt\n",
      "pyth\n",
      "pytho\n",
      "python\n"
     ]
    }
   ],
   "source": [
    "string = input(\"Enter a string: \")\n",
    "\n",
    "\n",
    "for i in range(1, len(string) + 1):\n",
    "    print(string[:i])"
   ]
  },
  {
   "cell_type": "code",
   "execution_count": null,
   "id": "de72c328",
   "metadata": {},
   "outputs": [],
   "source": []
  }
 ],
 "metadata": {
  "kernelspec": {
   "display_name": "Python 3 (ipykernel)",
   "language": "python",
   "name": "python3"
  },
  "language_info": {
   "codemirror_mode": {
    "name": "ipython",
    "version": 3
   },
   "file_extension": ".py",
   "mimetype": "text/x-python",
   "name": "python",
   "nbconvert_exporter": "python",
   "pygments_lexer": "ipython3",
   "version": "3.11.4"
  }
 },
 "nbformat": 4,
 "nbformat_minor": 5
}
